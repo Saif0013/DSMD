{
 "cells": [
  {
   "cell_type": "code",
   "execution_count": 1,
   "id": "f73f66a6",
   "metadata": {},
   "outputs": [],
   "source": [
    "import pandas as pd"
   ]
  },
  {
   "cell_type": "code",
   "execution_count": 2,
   "id": "91868af1",
   "metadata": {},
   "outputs": [],
   "source": [
    "from bs4 import BeautifulSoup"
   ]
  },
  {
   "cell_type": "code",
   "execution_count": 3,
   "id": "f0972a7e",
   "metadata": {},
   "outputs": [],
   "source": [
    "new_gen = pd.read_csv('newgenericdata.csv')"
   ]
  },
  {
   "cell_type": "code",
   "execution_count": 4,
   "id": "0ed46182",
   "metadata": {},
   "outputs": [
    {
     "data": {
      "text/html": [
       "<div>\n",
       "<style scoped>\n",
       "    .dataframe tbody tr th:only-of-type {\n",
       "        vertical-align: middle;\n",
       "    }\n",
       "\n",
       "    .dataframe tbody tr th {\n",
       "        vertical-align: top;\n",
       "    }\n",
       "\n",
       "    .dataframe thead th {\n",
       "        text-align: right;\n",
       "    }\n",
       "</style>\n",
       "<table border=\"1\" class=\"dataframe\">\n",
       "  <thead>\n",
       "    <tr style=\"text-align: right;\">\n",
       "      <th></th>\n",
       "      <th>generic name</th>\n",
       "      <th>pharmacology description</th>\n",
       "      <th>side effects description</th>\n",
       "    </tr>\n",
       "  </thead>\n",
       "  <tbody>\n",
       "    <tr>\n",
       "      <th>0</th>\n",
       "      <td>Adalimumab</td>\n",
       "      <td>&lt;div class=\"ac-body\"&gt;Adalimumab is a recombina...</td>\n",
       "      <td>&lt;div class=\"ac-body\"&gt;The most common adverse r...</td>\n",
       "    </tr>\n",
       "    <tr>\n",
       "      <th>1</th>\n",
       "      <td>Acyclovir + Hydrocortisone</td>\n",
       "      <td>&lt;div class=\"ac-body\"&gt;Acyclovir is a synthetic ...</td>\n",
       "      <td>&lt;div class=\"ac-body\"&gt;The following most common...</td>\n",
       "    </tr>\n",
       "    <tr>\n",
       "      <th>2</th>\n",
       "      <td>Acyclovir (Topical)</td>\n",
       "      <td>&lt;div class=\"ac-body\"&gt;Acyclovir is an antiviral...</td>\n",
       "      <td>&lt;div class=\"ac-body\"&gt;The most common adverse r...</td>\n",
       "    </tr>\n",
       "    <tr>\n",
       "      <th>3</th>\n",
       "      <td>Acyclovir (Oral)</td>\n",
       "      <td>&lt;div class=\"ac-body\"&gt;Aciclovir is a synthetic ...</td>\n",
       "      <td>&lt;div class=\"ac-body\"&gt;Rash, gastrointestinal di...</td>\n",
       "    </tr>\n",
       "    <tr>\n",
       "      <th>4</th>\n",
       "      <td>Acyclovir (Ophthalmic)</td>\n",
       "      <td>&lt;div class=\"ac-body\"&gt;Acyclovir is an antiviral...</td>\n",
       "      <td>&lt;div class=\"ac-body\"&gt;Very common: Superfi­cial...</td>\n",
       "    </tr>\n",
       "  </tbody>\n",
       "</table>\n",
       "</div>"
      ],
      "text/plain": [
       "                 generic name  \\\n",
       "0                  Adalimumab   \n",
       "1  Acyclovir + Hydrocortisone   \n",
       "2         Acyclovir (Topical)   \n",
       "3            Acyclovir (Oral)   \n",
       "4      Acyclovir (Ophthalmic)   \n",
       "\n",
       "                            pharmacology description  \\\n",
       "0  <div class=\"ac-body\">Adalimumab is a recombina...   \n",
       "1  <div class=\"ac-body\">Acyclovir is a synthetic ...   \n",
       "2  <div class=\"ac-body\">Acyclovir is an antiviral...   \n",
       "3  <div class=\"ac-body\">Aciclovir is a synthetic ...   \n",
       "4  <div class=\"ac-body\">Acyclovir is an antiviral...   \n",
       "\n",
       "                            side effects description  \n",
       "0  <div class=\"ac-body\">The most common adverse r...  \n",
       "1  <div class=\"ac-body\">The following most common...  \n",
       "2  <div class=\"ac-body\">The most common adverse r...  \n",
       "3  <div class=\"ac-body\">Rash, gastrointestinal di...  \n",
       "4  <div class=\"ac-body\">Very common: Superfi­cial...  "
      ]
     },
     "execution_count": 4,
     "metadata": {},
     "output_type": "execute_result"
    }
   ],
   "source": [
    "new_gen.head()"
   ]
  },
  {
   "cell_type": "code",
   "execution_count": 5,
   "id": "48e87f7f",
   "metadata": {},
   "outputs": [],
   "source": [
    "# Function to extract text from HTML content\n",
    "def extract_text_from_html(html):\n",
    "    if isinstance(html, str):\n",
    "        soup = BeautifulSoup(html, 'html.parser')\n",
    "        return soup.text.strip()\n",
    "    else:\n",
    "        return ''  # Replace NaN values with an empty string or another appropriate value"
   ]
  },
  {
   "cell_type": "code",
   "execution_count": 6,
   "id": "79a5e08b",
   "metadata": {},
   "outputs": [],
   "source": [
    "# apply the extract text from html function on pharma and side effects\n",
    "new_gen['pharmacology description'] = new_gen['pharmacology description'].apply(extract_text_from_html)\n",
    "new_gen['side effects description'] = new_gen['side effects description'].apply(extract_text_from_html)"
   ]
  },
  {
   "cell_type": "code",
   "execution_count": 7,
   "id": "805ac550",
   "metadata": {},
   "outputs": [
    {
     "data": {
      "text/html": [
       "<div>\n",
       "<style scoped>\n",
       "    .dataframe tbody tr th:only-of-type {\n",
       "        vertical-align: middle;\n",
       "    }\n",
       "\n",
       "    .dataframe tbody tr th {\n",
       "        vertical-align: top;\n",
       "    }\n",
       "\n",
       "    .dataframe thead th {\n",
       "        text-align: right;\n",
       "    }\n",
       "</style>\n",
       "<table border=\"1\" class=\"dataframe\">\n",
       "  <thead>\n",
       "    <tr style=\"text-align: right;\">\n",
       "      <th></th>\n",
       "      <th>generic name</th>\n",
       "      <th>pharmacology description</th>\n",
       "      <th>side effects description</th>\n",
       "    </tr>\n",
       "  </thead>\n",
       "  <tbody>\n",
       "    <tr>\n",
       "      <th>0</th>\n",
       "      <td>Adalimumab</td>\n",
       "      <td>Adalimumab is a recombinant human IgG1 monoclo...</td>\n",
       "      <td>The most common adverse reaction with Adalimum...</td>\n",
       "    </tr>\n",
       "    <tr>\n",
       "      <th>1</th>\n",
       "      <td>Acyclovir + Hydrocortisone</td>\n",
       "      <td>Acyclovir is a synthetic purine nucleoside ana...</td>\n",
       "      <td>The following most common adverse reactions (&lt;...</td>\n",
       "    </tr>\n",
       "    <tr>\n",
       "      <th>2</th>\n",
       "      <td>Acyclovir (Topical)</td>\n",
       "      <td>Acyclovir is an antiviral drug active against ...</td>\n",
       "      <td>The most common adverse reactions at the site ...</td>\n",
       "    </tr>\n",
       "    <tr>\n",
       "      <th>3</th>\n",
       "      <td>Acyclovir (Oral)</td>\n",
       "      <td>Aciclovir is a synthetic purine derivative. Ac...</td>\n",
       "      <td>Rash, gastrointestinal disturbance, rise in bi...</td>\n",
       "    </tr>\n",
       "    <tr>\n",
       "      <th>4</th>\n",
       "      <td>Acyclovir (Ophthalmic)</td>\n",
       "      <td>Acyclovir is an antiviral agent which is highl...</td>\n",
       "      <td>Very common: Superfi­cial punctate keratopathy...</td>\n",
       "    </tr>\n",
       "  </tbody>\n",
       "</table>\n",
       "</div>"
      ],
      "text/plain": [
       "                 generic name  \\\n",
       "0                  Adalimumab   \n",
       "1  Acyclovir + Hydrocortisone   \n",
       "2         Acyclovir (Topical)   \n",
       "3            Acyclovir (Oral)   \n",
       "4      Acyclovir (Ophthalmic)   \n",
       "\n",
       "                            pharmacology description  \\\n",
       "0  Adalimumab is a recombinant human IgG1 monoclo...   \n",
       "1  Acyclovir is a synthetic purine nucleoside ana...   \n",
       "2  Acyclovir is an antiviral drug active against ...   \n",
       "3  Aciclovir is a synthetic purine derivative. Ac...   \n",
       "4  Acyclovir is an antiviral agent which is highl...   \n",
       "\n",
       "                            side effects description  \n",
       "0  The most common adverse reaction with Adalimum...  \n",
       "1  The following most common adverse reactions (<...  \n",
       "2  The most common adverse reactions at the site ...  \n",
       "3  Rash, gastrointestinal disturbance, rise in bi...  \n",
       "4  Very common: Superfi­cial punctate keratopathy...  "
      ]
     },
     "execution_count": 7,
     "metadata": {},
     "output_type": "execute_result"
    }
   ],
   "source": [
    "new_gen.head()"
   ]
  },
  {
   "cell_type": "code",
   "execution_count": 8,
   "id": "2d948284",
   "metadata": {},
   "outputs": [],
   "source": [
    "new_gen.to_csv('generic_data.csv', index=False)"
   ]
  },
  {
   "cell_type": "code",
   "execution_count": null,
   "id": "cfd4fb4b",
   "metadata": {},
   "outputs": [],
   "source": []
  }
 ],
 "metadata": {
  "kernelspec": {
   "display_name": "Python 3 (ipykernel)",
   "language": "python",
   "name": "python3"
  },
  "language_info": {
   "codemirror_mode": {
    "name": "ipython",
    "version": 3
   },
   "file_extension": ".py",
   "mimetype": "text/x-python",
   "name": "python",
   "nbconvert_exporter": "python",
   "pygments_lexer": "ipython3",
   "version": "3.11.4"
  }
 },
 "nbformat": 4,
 "nbformat_minor": 5
}
