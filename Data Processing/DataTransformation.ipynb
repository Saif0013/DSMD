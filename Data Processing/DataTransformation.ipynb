{
 "cells": [
  {
   "cell_type": "code",
   "execution_count": 4,
   "id": "5d607aad",
   "metadata": {},
   "outputs": [],
   "source": [
    "import pandas as pd"
   ]
  },
  {
   "cell_type": "code",
   "execution_count": 5,
   "id": "cdc9d4db",
   "metadata": {},
   "outputs": [],
   "source": [
    "df = pd.read_csv('medicine.csv')"
   ]
  },
  {
   "cell_type": "code",
   "execution_count": 6,
   "id": "7e8f72bc",
   "metadata": {},
   "outputs": [
    {
     "data": {
      "text/html": [
       "<div>\n",
       "<style scoped>\n",
       "    .dataframe tbody tr th:only-of-type {\n",
       "        vertical-align: middle;\n",
       "    }\n",
       "\n",
       "    .dataframe tbody tr th {\n",
       "        vertical-align: top;\n",
       "    }\n",
       "\n",
       "    .dataframe thead th {\n",
       "        text-align: right;\n",
       "    }\n",
       "</style>\n",
       "<table border=\"1\" class=\"dataframe\">\n",
       "  <thead>\n",
       "    <tr style=\"text-align: right;\">\n",
       "      <th></th>\n",
       "      <th>brand id</th>\n",
       "      <th>brand name</th>\n",
       "      <th>type</th>\n",
       "      <th>slug</th>\n",
       "      <th>dosage form</th>\n",
       "      <th>generic</th>\n",
       "      <th>strength</th>\n",
       "      <th>manufacturer</th>\n",
       "      <th>package container</th>\n",
       "      <th>Package Size</th>\n",
       "    </tr>\n",
       "  </thead>\n",
       "  <tbody>\n",
       "    <tr>\n",
       "      <th>0</th>\n",
       "      <td>4077</td>\n",
       "      <td>A-Cold</td>\n",
       "      <td>allopathic</td>\n",
       "      <td>a-coldsyrup4-mg5-ml</td>\n",
       "      <td>Syrup</td>\n",
       "      <td>Bromhexine Hydrochloride</td>\n",
       "      <td>4 mg/5 ml</td>\n",
       "      <td>ACME Laboratories Ltd.</td>\n",
       "      <td>100 ml bottle: ৳ 40.12</td>\n",
       "      <td>NaN</td>\n",
       "    </tr>\n",
       "    <tr>\n",
       "      <th>1</th>\n",
       "      <td>4006</td>\n",
       "      <td>A-Cof</td>\n",
       "      <td>allopathic</td>\n",
       "      <td>a-cofsyrup10-mg30-mg125-mg5-ml</td>\n",
       "      <td>Syrup</td>\n",
       "      <td>Dextromethorphan + Pseudoephedrine + Triprolidine</td>\n",
       "      <td>(10 mg+30 mg+1.25 mg)/5 ml</td>\n",
       "      <td>ACME Laboratories Ltd.</td>\n",
       "      <td>100 ml bottle: ৳ 100.00</td>\n",
       "      <td>NaN</td>\n",
       "    </tr>\n",
       "    <tr>\n",
       "      <th>2</th>\n",
       "      <td>6174</td>\n",
       "      <td>A-Clox</td>\n",
       "      <td>allopathic</td>\n",
       "      <td>a-cloxinjection500-mgvial</td>\n",
       "      <td>Injection</td>\n",
       "      <td>Cloxacillin Sodium</td>\n",
       "      <td>500 mg/vial</td>\n",
       "      <td>ACME Laboratories Ltd.</td>\n",
       "      <td>500 mg vial: ৳ 28.43,(5's pack: ৳ 142.15),</td>\n",
       "      <td>(5's pack: ৳ 142.15)</td>\n",
       "    </tr>\n",
       "    <tr>\n",
       "      <th>3</th>\n",
       "      <td>6173</td>\n",
       "      <td>A-Clox</td>\n",
       "      <td>allopathic</td>\n",
       "      <td>a-cloxinjection250-mgvial</td>\n",
       "      <td>Injection</td>\n",
       "      <td>Cloxacillin Sodium</td>\n",
       "      <td>250 mg/vial</td>\n",
       "      <td>ACME Laboratories Ltd.</td>\n",
       "      <td>250 mg vial: ৳ 20.00,(5's pack: ৳ 100.00),</td>\n",
       "      <td>(5's pack: ৳ 100.00)</td>\n",
       "    </tr>\n",
       "    <tr>\n",
       "      <th>4</th>\n",
       "      <td>6172</td>\n",
       "      <td>A-Clox</td>\n",
       "      <td>allopathic</td>\n",
       "      <td>a-cloxpowder-for-suspension125-mg5-ml</td>\n",
       "      <td>Powder for Suspension</td>\n",
       "      <td>Cloxacillin Sodium</td>\n",
       "      <td>125 mg/5 ml</td>\n",
       "      <td>ACME Laboratories Ltd.</td>\n",
       "      <td>100 ml bottle: ৳ 45.00</td>\n",
       "      <td>NaN</td>\n",
       "    </tr>\n",
       "  </tbody>\n",
       "</table>\n",
       "</div>"
      ],
      "text/plain": [
       "   brand id brand name        type                                   slug  \\\n",
       "0      4077     A-Cold  allopathic                    a-coldsyrup4-mg5-ml   \n",
       "1      4006      A-Cof  allopathic         a-cofsyrup10-mg30-mg125-mg5-ml   \n",
       "2      6174     A-Clox  allopathic              a-cloxinjection500-mgvial   \n",
       "3      6173     A-Clox  allopathic              a-cloxinjection250-mgvial   \n",
       "4      6172     A-Clox  allopathic  a-cloxpowder-for-suspension125-mg5-ml   \n",
       "\n",
       "             dosage form                                            generic  \\\n",
       "0                  Syrup                           Bromhexine Hydrochloride   \n",
       "1                  Syrup  Dextromethorphan + Pseudoephedrine + Triprolidine   \n",
       "2              Injection                                 Cloxacillin Sodium   \n",
       "3              Injection                                 Cloxacillin Sodium   \n",
       "4  Powder for Suspension                                 Cloxacillin Sodium   \n",
       "\n",
       "                     strength            manufacturer  \\\n",
       "0                   4 mg/5 ml  ACME Laboratories Ltd.   \n",
       "1  (10 mg+30 mg+1.25 mg)/5 ml  ACME Laboratories Ltd.   \n",
       "2                 500 mg/vial  ACME Laboratories Ltd.   \n",
       "3                 250 mg/vial  ACME Laboratories Ltd.   \n",
       "4                 125 mg/5 ml  ACME Laboratories Ltd.   \n",
       "\n",
       "                            package container          Package Size  \n",
       "0                      100 ml bottle: ৳ 40.12                   NaN  \n",
       "1                     100 ml bottle: ৳ 100.00                   NaN  \n",
       "2  500 mg vial: ৳ 28.43,(5's pack: ৳ 142.15),  (5's pack: ৳ 142.15)  \n",
       "3  250 mg vial: ৳ 20.00,(5's pack: ৳ 100.00),  (5's pack: ৳ 100.00)  \n",
       "4                      100 ml bottle: ৳ 45.00                   NaN  "
      ]
     },
     "execution_count": 6,
     "metadata": {},
     "output_type": "execute_result"
    }
   ],
   "source": [
    "df.head()"
   ]
  },
  {
   "cell_type": "code",
   "execution_count": 2,
   "id": "181184bf",
   "metadata": {},
   "outputs": [
    {
     "data": {
      "text/plain": [
       "'\\nData transformation:\\n\\nbrand_name, generic_name_is, generic\\nbrand_name, type_of, type\\nbrand_name, has_dosage_form, dosage_form\\nbrand_name, has_strength_of, strength\\nbrand_name, manufactured_by, manufacturer\\n\\n'"
      ]
     },
     "execution_count": 2,
     "metadata": {},
     "output_type": "execute_result"
    }
   ],
   "source": [
    "\"\"\"\n",
    "Data transformation:\n",
    "\n",
    "brand_name, generic_name_is, generic\n",
    "brand_name, type_of, type\n",
    "brand_name, has_dosage_form, dosage_form\n",
    "brand_name, has_strength_of, strength\n",
    "brand_name, manufactured_by, manufacturer\n",
    "\n",
    "\"\"\""
   ]
  },
  {
   "cell_type": "code",
   "execution_count": 7,
   "id": "eb8cfd03",
   "metadata": {},
   "outputs": [],
   "source": [
    "columns_to_drop = ['brand id', 'slug', 'package container', 'Package Size']\n",
    "df = df.drop(columns=columns_to_drop)"
   ]
  },
  {
   "cell_type": "code",
   "execution_count": 8,
   "id": "211a2679",
   "metadata": {},
   "outputs": [
    {
     "data": {
      "text/html": [
       "<div>\n",
       "<style scoped>\n",
       "    .dataframe tbody tr th:only-of-type {\n",
       "        vertical-align: middle;\n",
       "    }\n",
       "\n",
       "    .dataframe tbody tr th {\n",
       "        vertical-align: top;\n",
       "    }\n",
       "\n",
       "    .dataframe thead th {\n",
       "        text-align: right;\n",
       "    }\n",
       "</style>\n",
       "<table border=\"1\" class=\"dataframe\">\n",
       "  <thead>\n",
       "    <tr style=\"text-align: right;\">\n",
       "      <th></th>\n",
       "      <th>brand name</th>\n",
       "      <th>type</th>\n",
       "      <th>dosage form</th>\n",
       "      <th>generic</th>\n",
       "      <th>strength</th>\n",
       "      <th>manufacturer</th>\n",
       "    </tr>\n",
       "  </thead>\n",
       "  <tbody>\n",
       "    <tr>\n",
       "      <th>0</th>\n",
       "      <td>A-Cold</td>\n",
       "      <td>allopathic</td>\n",
       "      <td>Syrup</td>\n",
       "      <td>Bromhexine Hydrochloride</td>\n",
       "      <td>4 mg/5 ml</td>\n",
       "      <td>ACME Laboratories Ltd.</td>\n",
       "    </tr>\n",
       "    <tr>\n",
       "      <th>1</th>\n",
       "      <td>A-Cof</td>\n",
       "      <td>allopathic</td>\n",
       "      <td>Syrup</td>\n",
       "      <td>Dextromethorphan + Pseudoephedrine + Triprolidine</td>\n",
       "      <td>(10 mg+30 mg+1.25 mg)/5 ml</td>\n",
       "      <td>ACME Laboratories Ltd.</td>\n",
       "    </tr>\n",
       "    <tr>\n",
       "      <th>2</th>\n",
       "      <td>A-Clox</td>\n",
       "      <td>allopathic</td>\n",
       "      <td>Injection</td>\n",
       "      <td>Cloxacillin Sodium</td>\n",
       "      <td>500 mg/vial</td>\n",
       "      <td>ACME Laboratories Ltd.</td>\n",
       "    </tr>\n",
       "    <tr>\n",
       "      <th>3</th>\n",
       "      <td>A-Clox</td>\n",
       "      <td>allopathic</td>\n",
       "      <td>Injection</td>\n",
       "      <td>Cloxacillin Sodium</td>\n",
       "      <td>250 mg/vial</td>\n",
       "      <td>ACME Laboratories Ltd.</td>\n",
       "    </tr>\n",
       "    <tr>\n",
       "      <th>4</th>\n",
       "      <td>A-Clox</td>\n",
       "      <td>allopathic</td>\n",
       "      <td>Powder for Suspension</td>\n",
       "      <td>Cloxacillin Sodium</td>\n",
       "      <td>125 mg/5 ml</td>\n",
       "      <td>ACME Laboratories Ltd.</td>\n",
       "    </tr>\n",
       "  </tbody>\n",
       "</table>\n",
       "</div>"
      ],
      "text/plain": [
       "  brand name        type            dosage form  \\\n",
       "0     A-Cold  allopathic                  Syrup   \n",
       "1      A-Cof  allopathic                  Syrup   \n",
       "2     A-Clox  allopathic              Injection   \n",
       "3     A-Clox  allopathic              Injection   \n",
       "4     A-Clox  allopathic  Powder for Suspension   \n",
       "\n",
       "                                             generic  \\\n",
       "0                           Bromhexine Hydrochloride   \n",
       "1  Dextromethorphan + Pseudoephedrine + Triprolidine   \n",
       "2                                 Cloxacillin Sodium   \n",
       "3                                 Cloxacillin Sodium   \n",
       "4                                 Cloxacillin Sodium   \n",
       "\n",
       "                     strength            manufacturer  \n",
       "0                   4 mg/5 ml  ACME Laboratories Ltd.  \n",
       "1  (10 mg+30 mg+1.25 mg)/5 ml  ACME Laboratories Ltd.  \n",
       "2                 500 mg/vial  ACME Laboratories Ltd.  \n",
       "3                 250 mg/vial  ACME Laboratories Ltd.  \n",
       "4                 125 mg/5 ml  ACME Laboratories Ltd.  "
      ]
     },
     "execution_count": 8,
     "metadata": {},
     "output_type": "execute_result"
    }
   ],
   "source": [
    "df.head()"
   ]
  },
  {
   "cell_type": "code",
   "execution_count": 10,
   "id": "d32423f7",
   "metadata": {},
   "outputs": [],
   "source": [
    "import os"
   ]
  },
  {
   "cell_type": "code",
   "execution_count": 11,
   "id": "bce41daa",
   "metadata": {},
   "outputs": [],
   "source": [
    "# new folder name\n",
    "folder_name = 'Med_data'\n",
    "\n",
    "# Check if the folder exists, and create it if not\n",
    "if not os.path.exists(folder_name):\n",
    "    os.makedirs(folder_name)\n"
   ]
  },
  {
   "cell_type": "code",
   "execution_count": 12,
   "id": "393f5c11",
   "metadata": {},
   "outputs": [],
   "source": [
    "# Assuming you have your DataFrame named df\n",
    "file_path = os.path.join(folder_name, 'medicine_data.csv')\n",
    "\n",
    "# Save the DataFrame as a CSV file\n",
    "df.to_csv(file_path, index=False)\n"
   ]
  },
  {
   "cell_type": "code",
   "execution_count": null,
   "id": "9245123a",
   "metadata": {},
   "outputs": [],
   "source": []
  }
 ],
 "metadata": {
  "kernelspec": {
   "display_name": "Python 3 (ipykernel)",
   "language": "python",
   "name": "python3"
  },
  "language_info": {
   "codemirror_mode": {
    "name": "ipython",
    "version": 3
   },
   "file_extension": ".py",
   "mimetype": "text/x-python",
   "name": "python",
   "nbconvert_exporter": "python",
   "pygments_lexer": "ipython3",
   "version": "3.11.4"
  }
 },
 "nbformat": 4,
 "nbformat_minor": 5
}
