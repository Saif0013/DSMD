{
 "cells": [
  {
   "cell_type": "code",
   "execution_count": 32,
   "id": "ee9c3be2",
   "metadata": {},
   "outputs": [],
   "source": [
    "import pandas as pd"
   ]
  },
  {
   "cell_type": "code",
   "execution_count": 33,
   "id": "2487ac81",
   "metadata": {},
   "outputs": [],
   "source": [
    "med = pd.read_csv('medicine_new.csv')\n",
    "gen = pd.read_csv('generic_new.csv')"
   ]
  },
  {
   "cell_type": "code",
   "execution_count": 34,
   "id": "e4e91e49",
   "metadata": {},
   "outputs": [
    {
     "data": {
      "text/plain": [
       "'\\nMedicine data transformation:\\n\\nbrand_name, generic_name_is, generic\\nbrand_name, type_of, type\\nbrand_name, has_dosage_form, dosage_form\\nbrand_name, has_strength_of, strength\\nbrand_name, manufactured_by, manufacturer\\n\\n\\nGeneric data transformation:\\n\\ngeneric_name, pharmacology description, pharmacology_description\\ngeneric_name, side effects, side_effects_description\\n\\n'"
      ]
     },
     "execution_count": 34,
     "metadata": {},
     "output_type": "execute_result"
    }
   ],
   "source": [
    "\"\"\"\n",
    "Medicine data transformation:\n",
    "\n",
    "brand_name, generic_name_is, generic\n",
    "brand_name, type_of, type\n",
    "brand_name, has_dosage_form, dosage_form\n",
    "brand_name, has_strength_of, strength\n",
    "brand_name, manufactured_by, manufacturer\n",
    "brand_name1, alternative_brand, brand_name2\n",
    "\n",
    "\n",
    "Generic data transformation:\n",
    "\n",
    "generic_name, pharmacology description, pharmacology_description\n",
    "generic_name, side effects, side_effects_description\n",
    "\n",
    "\"\"\""
   ]
  },
  {
   "cell_type": "code",
   "execution_count": 48,
   "id": "7a23fa36",
   "metadata": {},
   "outputs": [
    {
     "name": "stdout",
     "output_type": "stream",
     "text": [
      "Triples saved to dictionary.csv\n"
     ]
    }
   ],
   "source": [
    "# Create a list to store the triples\n",
    "triples = []\n",
    "\n",
    "# Iterate through each row in the DataFrame\n",
    "for index, row in med.iterrows():\n",
    "    brand_name = row['brand name']\n",
    "    generic = row['generic']\n",
    "    med_type = row['type']\n",
    "    dosage_form = row['dosage form']\n",
    "    strength = row['strength']\n",
    "    manufacturer = row['manufacturer']\n",
    "    \n",
    "    # Append the triples to the list\n",
    "    triples.append([brand_name, 'generic name is', generic])\n",
    "    triples.append([brand_name, 'type of', med_type])\n",
    "    triples.append([brand_name, 'has dosage form', dosage_form])\n",
    "    triples.append([brand_name, 'has strength of', strength])\n",
    "    triples.append([brand_name, 'manufactured by', manufacturer])\n",
    "\n",
    "# Iterate through each row in the 'gen' DataFrame\n",
    "for index, row in gen.iterrows():\n",
    "    generic_name = row['generic name']\n",
    "    pharmacology_description = row['pharmacology description']\n",
    "    side_effects_description = row['side effects description']\n",
    "    \n",
    "    # Append the triples to the list\n",
    "    triples.append([generic_name, 'pharmacology description', pharmacology_description])\n",
    "    triples.append([generic_name, 'side effects', side_effects_description])\n",
    "    \n",
    "# Get unique generics from the 'generic' column\n",
    "unique_generics = med['generic'].unique()\n",
    "\n",
    "# Iterate through each unique generic\n",
    "for target_generic in unique_generics:\n",
    "    # Use boolean indexing to filter the brand names for the specified generic\n",
    "    filtered_data = med[med['generic'] == target_generic]\n",
    "\n",
    "    # Reset the index of the filtered DataFrame\n",
    "    filtered_data.reset_index(drop=True, inplace=True)\n",
    "\n",
    "    # Create a list to store the triples for the current generic\n",
    "    all_triples = []\n",
    "\n",
    "    # Iterate through brand names to create the triples\n",
    "    for i in range(len(filtered_data)):\n",
    "        for j in range(i + 1, len(filtered_data)):\n",
    "            brand1 = filtered_data.at[i, 'brand name']\n",
    "            brand2 = filtered_data.at[j, 'brand name']\n",
    "\n",
    "            # Append the triple (brand_name, alternative brand, brand_name)\n",
    "            all_triples.append([brand1, 'alternative brand', brand2])\n",
    "\n",
    "    # Extend the list of all triples with the triples for the current generic\n",
    "    triples.extend(all_triples)\n",
    "\n",
    "# Create a new DataFrame from the list of triples\n",
    "df = pd.DataFrame(triples, columns=['Subject', 'Predicate', 'Object'])\n",
    "\n",
    "# Remove any duplicate\n",
    "df = df.drop_duplicates()\n",
    "\n",
    "# Save the new DataFrame to a CSV file\n",
    "df.to_csv('dictionary.csv', index=False, header=False)\n",
    "\n",
    "print(\"Triples saved to dictionary.csv\")"
   ]
  },
  {
   "cell_type": "code",
   "execution_count": 49,
   "id": "c12e632e",
   "metadata": {},
   "outputs": [],
   "source": [
    "# column names\n",
    "column_names = ['Subject', 'Predicate', 'Object']\n",
    "df = pd.read_csv('dictionary.csv', header=None, names=column_names)"
   ]
  },
  {
   "cell_type": "code",
   "execution_count": 50,
   "id": "731a8bc6",
   "metadata": {},
   "outputs": [
    {
     "data": {
      "text/html": [
       "<div>\n",
       "<style scoped>\n",
       "    .dataframe tbody tr th:only-of-type {\n",
       "        vertical-align: middle;\n",
       "    }\n",
       "\n",
       "    .dataframe tbody tr th {\n",
       "        vertical-align: top;\n",
       "    }\n",
       "\n",
       "    .dataframe thead th {\n",
       "        text-align: right;\n",
       "    }\n",
       "</style>\n",
       "<table border=\"1\" class=\"dataframe\">\n",
       "  <thead>\n",
       "    <tr style=\"text-align: right;\">\n",
       "      <th></th>\n",
       "      <th>Subject</th>\n",
       "      <th>Predicate</th>\n",
       "      <th>Object</th>\n",
       "    </tr>\n",
       "  </thead>\n",
       "  <tbody>\n",
       "    <tr>\n",
       "      <th>0</th>\n",
       "      <td>A-Cold</td>\n",
       "      <td>generic name is</td>\n",
       "      <td>Bromhexine Hydrochloride</td>\n",
       "    </tr>\n",
       "    <tr>\n",
       "      <th>1</th>\n",
       "      <td>A-Cold</td>\n",
       "      <td>type of</td>\n",
       "      <td>allopathic</td>\n",
       "    </tr>\n",
       "    <tr>\n",
       "      <th>2</th>\n",
       "      <td>A-Cold</td>\n",
       "      <td>has dosage form</td>\n",
       "      <td>Syrup</td>\n",
       "    </tr>\n",
       "    <tr>\n",
       "      <th>3</th>\n",
       "      <td>A-Cold</td>\n",
       "      <td>has strength of</td>\n",
       "      <td>4 mg/5 ml</td>\n",
       "    </tr>\n",
       "    <tr>\n",
       "      <th>4</th>\n",
       "      <td>A-Cold</td>\n",
       "      <td>manufactured by</td>\n",
       "      <td>ACME Laboratories Ltd.</td>\n",
       "    </tr>\n",
       "  </tbody>\n",
       "</table>\n",
       "</div>"
      ],
      "text/plain": [
       "  Subject        Predicate                    Object\n",
       "0  A-Cold  generic name is  Bromhexine Hydrochloride\n",
       "1  A-Cold          type of                allopathic\n",
       "2  A-Cold  has dosage form                     Syrup\n",
       "3  A-Cold  has strength of                 4 mg/5 ml\n",
       "4  A-Cold  manufactured by    ACME Laboratories Ltd."
      ]
     },
     "execution_count": 50,
     "metadata": {},
     "output_type": "execute_result"
    }
   ],
   "source": [
    "df.head()"
   ]
  },
  {
   "cell_type": "code",
   "execution_count": 53,
   "id": "e910a27e",
   "metadata": {},
   "outputs": [
    {
     "name": "stdout",
     "output_type": "stream",
     "text": [
      "brand name: A-Cold\n",
      "generic name: Bromhexine Hydrochloride\n",
      "type of: allopathic\n",
      "has dosage form: Syrup\n",
      "has strength of: 4 mg/5 ml\n",
      "manufactured by: ACME Laboratories Ltd.\n",
      "pharmacology description: Bromhexine Hydrochloride is an oral mucolytic agent. It disrupts the structure of acid mucopolysaccharide fibres in mucoid sputum and produces less viscous mucus, which makes easier the expectoration. It is rapidly & completely absorbed from the gastrointestinal tract. It is widely distributed into the body tissues.\n",
      "side effects: Gastrointestinal side effects may occur occasionally. A transient rise in serum aminotransferase values has been reported. Other reported side effects include-headache, vertigo (dizziness) and allergic reactions.\n"
     ]
    }
   ],
   "source": [
    "import pandas as pd\n",
    "\n",
    "# column names\n",
    "column_names = ['Subject', 'Predicate', 'Object']\n",
    "df = pd.read_csv('dictionary.csv', header=None, names=column_names)\n",
    "\n",
    "def search_brand_info(brand_name):\n",
    "    # Initialize variables to store the information\n",
    "    generic_name = None\n",
    "    brand_type = None\n",
    "    dosage_form = None\n",
    "    strength = None\n",
    "    manufacturer = None\n",
    "    pharmacology_description = None\n",
    "    side_effects_description = None\n",
    "\n",
    "    # Filter rows where the Subject matches the brand_name\n",
    "    brand_rows = df[df['Subject'] == brand_name]\n",
    "\n",
    "    # Loop through the filtered rows and extract information\n",
    "    for _, row in brand_rows.iterrows():\n",
    "        predicate = row['Predicate']\n",
    "        obj = row['Object']\n",
    "        if predicate == 'generic name is':\n",
    "            generic_name = obj\n",
    "        elif predicate == 'type of':\n",
    "            brand_type = obj\n",
    "        elif predicate == 'has dosage form':\n",
    "            dosage_form = obj\n",
    "        elif predicate == 'has strength of':\n",
    "            strength = obj\n",
    "        elif predicate == 'manufactured by':\n",
    "            manufacturer = obj\n",
    "\n",
    "    # Find the pharmacology description and side effects description based on generic name\n",
    "    generic_rows = df[df['Subject'] == generic_name]\n",
    "    for _, row in generic_rows.iterrows():\n",
    "        predicate = row['Predicate']\n",
    "        obj = row['Object']\n",
    "        if predicate == 'pharmacology description':\n",
    "            pharmacology_description = obj\n",
    "        elif predicate == 'side effects':\n",
    "            side_effects_description = obj\n",
    "\n",
    "    # Create a dictionary to store the retrieved information\n",
    "    brand_info = {\n",
    "        'brand name': brand_name,\n",
    "        'generic name': generic_name,\n",
    "        'type of': brand_type,\n",
    "        'has dosage form': dosage_form,\n",
    "        'has strength of': strength,\n",
    "        'manufactured by': manufacturer,\n",
    "        'pharmacology description': pharmacology_description,\n",
    "        'side effects': side_effects_description\n",
    "    }\n",
    "\n",
    "    return brand_info\n",
    "\n",
    "# Example usage:\n",
    "searched_brand = 'A-Cold'\n",
    "result = search_brand_info(searched_brand)\n",
    "\n",
    "# Print the retrieved information\n",
    "for key, value in result.items():\n",
    "    print(f\"{key}: {value}\")\n"
   ]
  },
  {
   "cell_type": "code",
   "execution_count": null,
   "id": "59cdfcb9",
   "metadata": {},
   "outputs": [],
   "source": []
  }
 ],
 "metadata": {
  "kernelspec": {
   "display_name": "Python 3 (ipykernel)",
   "language": "python",
   "name": "python3"
  },
  "language_info": {
   "codemirror_mode": {
    "name": "ipython",
    "version": 3
   },
   "file_extension": ".py",
   "mimetype": "text/x-python",
   "name": "python",
   "nbconvert_exporter": "python",
   "pygments_lexer": "ipython3",
   "version": "3.11.4"
  }
 },
 "nbformat": 4,
 "nbformat_minor": 5
}
