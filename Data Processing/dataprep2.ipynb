{
 "cells": [
  {
   "cell_type": "code",
   "execution_count": 1,
   "id": "8f6b79fe",
   "metadata": {},
   "outputs": [],
   "source": [
    "import pandas as pd"
   ]
  },
  {
   "cell_type": "code",
   "execution_count": 2,
   "id": "77eec7d5",
   "metadata": {},
   "outputs": [],
   "source": [
    "med = pd.read_csv('medicine.csv')\n",
    "gen = pd.read_csv('generic.csv')"
   ]
  },
  {
   "cell_type": "code",
   "execution_count": 3,
   "id": "3ae55bc7",
   "metadata": {},
   "outputs": [
    {
     "data": {
      "text/plain": [
       "brand name      0\n",
       "type            0\n",
       "dosage form     0\n",
       "generic         0\n",
       "strength        0\n",
       "manufacturer    0\n",
       "dtype: int64"
      ]
     },
     "execution_count": 3,
     "metadata": {},
     "output_type": "execute_result"
    }
   ],
   "source": [
    "med.isna().sum()"
   ]
  },
  {
   "cell_type": "code",
   "execution_count": 4,
   "id": "ccde6b4c",
   "metadata": {},
   "outputs": [
    {
     "data": {
      "text/plain": [
       "generic name                0\n",
       "pharmacology description    0\n",
       "side effects description    0\n",
       "dtype: int64"
      ]
     },
     "execution_count": 4,
     "metadata": {},
     "output_type": "execute_result"
    }
   ],
   "source": [
    "gen.isna().sum()"
   ]
  },
  {
   "cell_type": "code",
   "execution_count": 6,
   "id": "374ec1e9",
   "metadata": {},
   "outputs": [
    {
     "data": {
      "text/plain": [
       "(20863, 6)"
      ]
     },
     "execution_count": 6,
     "metadata": {},
     "output_type": "execute_result"
    }
   ],
   "source": [
    "med.shape"
   ]
  },
  {
   "cell_type": "code",
   "execution_count": 7,
   "id": "4085eec6",
   "metadata": {},
   "outputs": [
    {
     "data": {
      "text/plain": [
       "(1557, 3)"
      ]
     },
     "execution_count": 7,
     "metadata": {},
     "output_type": "execute_result"
    }
   ],
   "source": [
    "gen.shape"
   ]
  },
  {
   "cell_type": "code",
   "execution_count": 9,
   "id": "00b80f98",
   "metadata": {},
   "outputs": [],
   "source": [
    "# Merge the two DataFrames based on the \"generic\" and \"generic name\" columns using an outer join\n",
    "# data = med.merge(gen, on=['generic', 'generic name'], how='outer')\n"
   ]
  },
  {
   "cell_type": "code",
   "execution_count": 14,
   "id": "671d95a1",
   "metadata": {},
   "outputs": [
    {
     "name": "stdout",
     "output_type": "stream",
     "text": [
      "Number of common values between 'generic' and 'generic name' columns: 1392\n"
     ]
    }
   ],
   "source": [
    "\"\"\"\n",
    "# Get unique values in the \"generic\" column of 'med' DataFrame\n",
    "med_generic_unique = set(med['generic'].unique())\n",
    "\n",
    "# Get unique values in the \"generic name\" column of 'gen' DataFrame\n",
    "gen_generic_name_unique = set(gen['generic name'].unique())\n",
    "\n",
    "# Find the intersection of unique values\n",
    "common_values = med_generic_unique.intersection(gen_generic_name_unique)\n",
    "\n",
    "# Calculate the number of common values\n",
    "num_common_values = len(common_values)\n",
    "\n",
    "print(\"Number of common values between 'generic' and 'generic name' columns:\", num_common_values)\n",
    "\n",
    "\"\"\""
   ]
  },
  {
   "cell_type": "code",
   "execution_count": 22,
   "id": "43196701",
   "metadata": {},
   "outputs": [],
   "source": [
    "# Get unique values in the \"generic\" column of 'med' DataFrame\n",
    "med_generic_unique = set(med['generic'].unique())\n",
    "\n",
    "# Get unique values in the \"generic name\" column of 'gen' DataFrame\n",
    "gen_generic_name_unique = set(gen['generic name'].unique())\n",
    "\n",
    "# Find the intersection of unique values\n",
    "common_values = med_generic_unique.intersection(gen_generic_name_unique)\n",
    "\n",
    "# Filter 'med' DataFrame to keep only the common values\n",
    "med_common = med[med['generic'].isin(common_values)]\n",
    "\n",
    "# Filter 'gen' DataFrame to keep only the common values\n",
    "gen_common = gen[gen['generic name'].isin(common_values)]"
   ]
  },
  {
   "cell_type": "code",
   "execution_count": 23,
   "id": "656fa2b5",
   "metadata": {},
   "outputs": [
    {
     "data": {
      "text/html": [
       "<div>\n",
       "<style scoped>\n",
       "    .dataframe tbody tr th:only-of-type {\n",
       "        vertical-align: middle;\n",
       "    }\n",
       "\n",
       "    .dataframe tbody tr th {\n",
       "        vertical-align: top;\n",
       "    }\n",
       "\n",
       "    .dataframe thead th {\n",
       "        text-align: right;\n",
       "    }\n",
       "</style>\n",
       "<table border=\"1\" class=\"dataframe\">\n",
       "  <thead>\n",
       "    <tr style=\"text-align: right;\">\n",
       "      <th></th>\n",
       "      <th>brand name</th>\n",
       "      <th>type</th>\n",
       "      <th>dosage form</th>\n",
       "      <th>generic</th>\n",
       "      <th>strength</th>\n",
       "      <th>manufacturer</th>\n",
       "    </tr>\n",
       "  </thead>\n",
       "  <tbody>\n",
       "    <tr>\n",
       "      <th>0</th>\n",
       "      <td>A-Cold</td>\n",
       "      <td>allopathic</td>\n",
       "      <td>Syrup</td>\n",
       "      <td>Bromhexine Hydrochloride</td>\n",
       "      <td>4 mg/5 ml</td>\n",
       "      <td>ACME Laboratories Ltd.</td>\n",
       "    </tr>\n",
       "    <tr>\n",
       "      <th>1</th>\n",
       "      <td>A-Cof</td>\n",
       "      <td>allopathic</td>\n",
       "      <td>Syrup</td>\n",
       "      <td>Dextromethorphan + Pseudoephedrine + Triprolidine</td>\n",
       "      <td>(10 mg+30 mg+1.25 mg)/5 ml</td>\n",
       "      <td>ACME Laboratories Ltd.</td>\n",
       "    </tr>\n",
       "    <tr>\n",
       "      <th>6</th>\n",
       "      <td>A-Care</td>\n",
       "      <td>allopathic</td>\n",
       "      <td>Tablet</td>\n",
       "      <td>Betacarotene + Vitamin C + Vitamin E</td>\n",
       "      <td>6 mg+200 mg+50 mg</td>\n",
       "      <td>Asiatic Laboratories Ltd.</td>\n",
       "    </tr>\n",
       "    <tr>\n",
       "      <th>7</th>\n",
       "      <td>A-Card</td>\n",
       "      <td>allopathic</td>\n",
       "      <td>Tablet</td>\n",
       "      <td>Isosorbide Mononitrate</td>\n",
       "      <td>20 mg</td>\n",
       "      <td>ACME Laboratories Ltd.</td>\n",
       "    </tr>\n",
       "    <tr>\n",
       "      <th>8</th>\n",
       "      <td>A-Calm</td>\n",
       "      <td>allopathic</td>\n",
       "      <td>Tablet</td>\n",
       "      <td>Tolperisone Hydrochloride</td>\n",
       "      <td>50 mg</td>\n",
       "      <td>ACME Laboratories Ltd.</td>\n",
       "    </tr>\n",
       "  </tbody>\n",
       "</table>\n",
       "</div>"
      ],
      "text/plain": [
       "  brand name        type dosage form  \\\n",
       "0     A-Cold  allopathic       Syrup   \n",
       "1      A-Cof  allopathic       Syrup   \n",
       "6     A-Care  allopathic      Tablet   \n",
       "7     A-Card  allopathic      Tablet   \n",
       "8     A-Calm  allopathic      Tablet   \n",
       "\n",
       "                                             generic  \\\n",
       "0                           Bromhexine Hydrochloride   \n",
       "1  Dextromethorphan + Pseudoephedrine + Triprolidine   \n",
       "6               Betacarotene + Vitamin C + Vitamin E   \n",
       "7                             Isosorbide Mononitrate   \n",
       "8                          Tolperisone Hydrochloride   \n",
       "\n",
       "                     strength               manufacturer  \n",
       "0                   4 mg/5 ml     ACME Laboratories Ltd.  \n",
       "1  (10 mg+30 mg+1.25 mg)/5 ml     ACME Laboratories Ltd.  \n",
       "6           6 mg+200 mg+50 mg  Asiatic Laboratories Ltd.  \n",
       "7                       20 mg     ACME Laboratories Ltd.  \n",
       "8                       50 mg     ACME Laboratories Ltd.  "
      ]
     },
     "execution_count": 23,
     "metadata": {},
     "output_type": "execute_result"
    }
   ],
   "source": [
    "med_common.head()"
   ]
  },
  {
   "cell_type": "code",
   "execution_count": 24,
   "id": "05e4c861",
   "metadata": {},
   "outputs": [
    {
     "data": {
      "text/plain": [
       "(20150, 6)"
      ]
     },
     "execution_count": 24,
     "metadata": {},
     "output_type": "execute_result"
    }
   ],
   "source": [
    "med_common.shape"
   ]
  },
  {
   "cell_type": "code",
   "execution_count": 25,
   "id": "b4bdb890",
   "metadata": {},
   "outputs": [
    {
     "data": {
      "text/html": [
       "<div>\n",
       "<style scoped>\n",
       "    .dataframe tbody tr th:only-of-type {\n",
       "        vertical-align: middle;\n",
       "    }\n",
       "\n",
       "    .dataframe tbody tr th {\n",
       "        vertical-align: top;\n",
       "    }\n",
       "\n",
       "    .dataframe thead th {\n",
       "        text-align: right;\n",
       "    }\n",
       "</style>\n",
       "<table border=\"1\" class=\"dataframe\">\n",
       "  <thead>\n",
       "    <tr style=\"text-align: right;\">\n",
       "      <th></th>\n",
       "      <th>generic name</th>\n",
       "      <th>pharmacology description</th>\n",
       "      <th>side effects description</th>\n",
       "    </tr>\n",
       "  </thead>\n",
       "  <tbody>\n",
       "    <tr>\n",
       "      <th>0</th>\n",
       "      <td>Adalimumab</td>\n",
       "      <td>Adalimumab is a recombinant human IgG1 monoclo...</td>\n",
       "      <td>The most common adverse reaction with Adalimum...</td>\n",
       "    </tr>\n",
       "    <tr>\n",
       "      <th>1</th>\n",
       "      <td>Acyclovir + Hydrocortisone</td>\n",
       "      <td>Acyclovir is a synthetic purine nucleoside ana...</td>\n",
       "      <td>The following most common adverse reactions (&lt;...</td>\n",
       "    </tr>\n",
       "    <tr>\n",
       "      <th>2</th>\n",
       "      <td>Acyclovir (Topical)</td>\n",
       "      <td>Acyclovir is an antiviral drug active against ...</td>\n",
       "      <td>The most common adverse reactions at the site ...</td>\n",
       "    </tr>\n",
       "    <tr>\n",
       "      <th>3</th>\n",
       "      <td>Acyclovir (Oral)</td>\n",
       "      <td>Aciclovir is a synthetic purine derivative. Ac...</td>\n",
       "      <td>Rash, gastrointestinal disturbance, rise in bi...</td>\n",
       "    </tr>\n",
       "    <tr>\n",
       "      <th>4</th>\n",
       "      <td>Acyclovir (Ophthalmic)</td>\n",
       "      <td>Acyclovir is an antiviral agent which is highl...</td>\n",
       "      <td>Very common: Superfi­cial punctate keratopathy...</td>\n",
       "    </tr>\n",
       "  </tbody>\n",
       "</table>\n",
       "</div>"
      ],
      "text/plain": [
       "                 generic name  \\\n",
       "0                  Adalimumab   \n",
       "1  Acyclovir + Hydrocortisone   \n",
       "2         Acyclovir (Topical)   \n",
       "3            Acyclovir (Oral)   \n",
       "4      Acyclovir (Ophthalmic)   \n",
       "\n",
       "                            pharmacology description  \\\n",
       "0  Adalimumab is a recombinant human IgG1 monoclo...   \n",
       "1  Acyclovir is a synthetic purine nucleoside ana...   \n",
       "2  Acyclovir is an antiviral drug active against ...   \n",
       "3  Aciclovir is a synthetic purine derivative. Ac...   \n",
       "4  Acyclovir is an antiviral agent which is highl...   \n",
       "\n",
       "                            side effects description  \n",
       "0  The most common adverse reaction with Adalimum...  \n",
       "1  The following most common adverse reactions (<...  \n",
       "2  The most common adverse reactions at the site ...  \n",
       "3  Rash, gastrointestinal disturbance, rise in bi...  \n",
       "4  Very common: Superfi­cial punctate keratopathy...  "
      ]
     },
     "execution_count": 25,
     "metadata": {},
     "output_type": "execute_result"
    }
   ],
   "source": [
    "gen_common.head()"
   ]
  },
  {
   "cell_type": "code",
   "execution_count": 26,
   "id": "5b0c5525",
   "metadata": {},
   "outputs": [
    {
     "data": {
      "text/plain": [
       "(1392, 3)"
      ]
     },
     "execution_count": 26,
     "metadata": {},
     "output_type": "execute_result"
    }
   ],
   "source": [
    "gen_common.shape"
   ]
  },
  {
   "cell_type": "code",
   "execution_count": 29,
   "id": "ebda9deb",
   "metadata": {},
   "outputs": [],
   "source": [
    "pd.set_option('display.max_colwidth', None)"
   ]
  },
  {
   "cell_type": "code",
   "execution_count": 30,
   "id": "56e5cd0a",
   "metadata": {},
   "outputs": [
    {
     "name": "stdout",
     "output_type": "stream",
     "text": [
      "245    Bromhexine Hydrochloride is an oral mucolytic agent. It disrupts the structure of acid mucopolysaccharide fibres in mucoid sputum and produces less viscous mucus, which makes easier the expectoration. It is rapidly & completely absorbed from the gastrointestinal tract. It is widely distributed into the body tissues.\n",
      "Name: pharmacology description, dtype: object\n"
     ]
    }
   ],
   "source": [
    "output = gen_common[gen_common['generic name'] == 'Bromhexine Hydrochloride']['pharmacology description']\n",
    "print(output)"
   ]
  },
  {
   "cell_type": "code",
   "execution_count": 31,
   "id": "8f948af4",
   "metadata": {},
   "outputs": [],
   "source": [
    "med_common.to_csv('medicine_new.csv', index=False)\n",
    "gen_common.to_csv('generic_new.csv', index=False)"
   ]
  },
  {
   "cell_type": "code",
   "execution_count": null,
   "id": "28056042",
   "metadata": {},
   "outputs": [],
   "source": [
    "# Get unique values in the \"generic\" column of 'med' DataFrame\n",
    "med_generic_unique = set(med['generic'].unique())\n",
    "\n",
    "# Get unique values in the \"generic name\" column of 'gen' DataFrame\n",
    "gen_generic_name_unique = set(gen['generic name'].unique())\n",
    "\n",
    "# Check if the unique values in both columns match\n",
    "if med_generic_unique == gen_generic_name_unique:\n",
    "    print(\"The 'generic' and 'generic name' columns have the same data.\")\n",
    "else:\n",
    "    print(\"The 'generic' and 'generic name' columns do not have the same data.\")"
   ]
  }
 ],
 "metadata": {
  "kernelspec": {
   "display_name": "Python 3 (ipykernel)",
   "language": "python",
   "name": "python3"
  },
  "language_info": {
   "codemirror_mode": {
    "name": "ipython",
    "version": 3
   },
   "file_extension": ".py",
   "mimetype": "text/x-python",
   "name": "python",
   "nbconvert_exporter": "python",
   "pygments_lexer": "ipython3",
   "version": "3.11.4"
  }
 },
 "nbformat": 4,
 "nbformat_minor": 5
}
