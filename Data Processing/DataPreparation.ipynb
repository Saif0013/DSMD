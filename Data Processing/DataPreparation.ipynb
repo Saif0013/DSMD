{
 "cells": [
  {
   "cell_type": "code",
   "execution_count": 1,
   "id": "30944063",
   "metadata": {},
   "outputs": [],
   "source": [
    "import pandas as pd"
   ]
  },
  {
   "cell_type": "code",
   "execution_count": 2,
   "id": "910c62cf",
   "metadata": {},
   "outputs": [],
   "source": [
    "med_data = pd.read_csv('medicine.csv')"
   ]
  },
  {
   "cell_type": "code",
   "execution_count": 3,
   "id": "e1a8dc4b",
   "metadata": {},
   "outputs": [],
   "source": [
    "gen_data = pd.read_csv('generic_data.csv')"
   ]
  },
  {
   "cell_type": "code",
   "execution_count": 4,
   "id": "275c7992",
   "metadata": {},
   "outputs": [
    {
     "data": {
      "text/html": [
       "<div>\n",
       "<style scoped>\n",
       "    .dataframe tbody tr th:only-of-type {\n",
       "        vertical-align: middle;\n",
       "    }\n",
       "\n",
       "    .dataframe tbody tr th {\n",
       "        vertical-align: top;\n",
       "    }\n",
       "\n",
       "    .dataframe thead th {\n",
       "        text-align: right;\n",
       "    }\n",
       "</style>\n",
       "<table border=\"1\" class=\"dataframe\">\n",
       "  <thead>\n",
       "    <tr style=\"text-align: right;\">\n",
       "      <th></th>\n",
       "      <th>brand name</th>\n",
       "      <th>type</th>\n",
       "      <th>dosage form</th>\n",
       "      <th>generic</th>\n",
       "      <th>strength</th>\n",
       "      <th>manufacturer</th>\n",
       "    </tr>\n",
       "  </thead>\n",
       "  <tbody>\n",
       "    <tr>\n",
       "      <th>0</th>\n",
       "      <td>A-Cold</td>\n",
       "      <td>allopathic</td>\n",
       "      <td>Syrup</td>\n",
       "      <td>Bromhexine Hydrochloride</td>\n",
       "      <td>4 mg/5 ml</td>\n",
       "      <td>ACME Laboratories Ltd.</td>\n",
       "    </tr>\n",
       "    <tr>\n",
       "      <th>1</th>\n",
       "      <td>A-Cof</td>\n",
       "      <td>allopathic</td>\n",
       "      <td>Syrup</td>\n",
       "      <td>Dextromethorphan + Pseudoephedrine + Triprolidine</td>\n",
       "      <td>(10 mg+30 mg+1.25 mg)/5 ml</td>\n",
       "      <td>ACME Laboratories Ltd.</td>\n",
       "    </tr>\n",
       "    <tr>\n",
       "      <th>2</th>\n",
       "      <td>A-Clox</td>\n",
       "      <td>allopathic</td>\n",
       "      <td>Injection</td>\n",
       "      <td>Cloxacillin Sodium</td>\n",
       "      <td>500 mg/vial</td>\n",
       "      <td>ACME Laboratories Ltd.</td>\n",
       "    </tr>\n",
       "    <tr>\n",
       "      <th>3</th>\n",
       "      <td>A-Clox</td>\n",
       "      <td>allopathic</td>\n",
       "      <td>Injection</td>\n",
       "      <td>Cloxacillin Sodium</td>\n",
       "      <td>250 mg/vial</td>\n",
       "      <td>ACME Laboratories Ltd.</td>\n",
       "    </tr>\n",
       "    <tr>\n",
       "      <th>4</th>\n",
       "      <td>A-Clox</td>\n",
       "      <td>allopathic</td>\n",
       "      <td>Powder for Suspension</td>\n",
       "      <td>Cloxacillin Sodium</td>\n",
       "      <td>125 mg/5 ml</td>\n",
       "      <td>ACME Laboratories Ltd.</td>\n",
       "    </tr>\n",
       "  </tbody>\n",
       "</table>\n",
       "</div>"
      ],
      "text/plain": [
       "  brand name        type            dosage form  \\\n",
       "0     A-Cold  allopathic                  Syrup   \n",
       "1      A-Cof  allopathic                  Syrup   \n",
       "2     A-Clox  allopathic              Injection   \n",
       "3     A-Clox  allopathic              Injection   \n",
       "4     A-Clox  allopathic  Powder for Suspension   \n",
       "\n",
       "                                             generic  \\\n",
       "0                           Bromhexine Hydrochloride   \n",
       "1  Dextromethorphan + Pseudoephedrine + Triprolidine   \n",
       "2                                 Cloxacillin Sodium   \n",
       "3                                 Cloxacillin Sodium   \n",
       "4                                 Cloxacillin Sodium   \n",
       "\n",
       "                     strength            manufacturer  \n",
       "0                   4 mg/5 ml  ACME Laboratories Ltd.  \n",
       "1  (10 mg+30 mg+1.25 mg)/5 ml  ACME Laboratories Ltd.  \n",
       "2                 500 mg/vial  ACME Laboratories Ltd.  \n",
       "3                 250 mg/vial  ACME Laboratories Ltd.  \n",
       "4                 125 mg/5 ml  ACME Laboratories Ltd.  "
      ]
     },
     "execution_count": 4,
     "metadata": {},
     "output_type": "execute_result"
    }
   ],
   "source": [
    "med_data.head()"
   ]
  },
  {
   "cell_type": "code",
   "execution_count": 5,
   "id": "9254d579",
   "metadata": {},
   "outputs": [
    {
     "data": {
      "text/plain": [
       "brand name      0\n",
       "type            0\n",
       "dosage form     0\n",
       "generic         0\n",
       "strength        0\n",
       "manufacturer    0\n",
       "dtype: int64"
      ]
     },
     "execution_count": 5,
     "metadata": {},
     "output_type": "execute_result"
    }
   ],
   "source": [
    "med_data.isna().sum()"
   ]
  },
  {
   "cell_type": "code",
   "execution_count": 6,
   "id": "7858ba25",
   "metadata": {},
   "outputs": [
    {
     "data": {
      "text/html": [
       "<div>\n",
       "<style scoped>\n",
       "    .dataframe tbody tr th:only-of-type {\n",
       "        vertical-align: middle;\n",
       "    }\n",
       "\n",
       "    .dataframe tbody tr th {\n",
       "        vertical-align: top;\n",
       "    }\n",
       "\n",
       "    .dataframe thead th {\n",
       "        text-align: right;\n",
       "    }\n",
       "</style>\n",
       "<table border=\"1\" class=\"dataframe\">\n",
       "  <thead>\n",
       "    <tr style=\"text-align: right;\">\n",
       "      <th></th>\n",
       "      <th>generic name</th>\n",
       "      <th>pharmacology description</th>\n",
       "      <th>side effects description</th>\n",
       "    </tr>\n",
       "  </thead>\n",
       "  <tbody>\n",
       "    <tr>\n",
       "      <th>0</th>\n",
       "      <td>Adalimumab</td>\n",
       "      <td>Adalimumab is a recombinant human IgG1 monoclo...</td>\n",
       "      <td>The most common adverse reaction with Adalimum...</td>\n",
       "    </tr>\n",
       "    <tr>\n",
       "      <th>1</th>\n",
       "      <td>Acyclovir + Hydrocortisone</td>\n",
       "      <td>Acyclovir is a synthetic purine nucleoside ana...</td>\n",
       "      <td>The following most common adverse reactions (&lt;...</td>\n",
       "    </tr>\n",
       "    <tr>\n",
       "      <th>2</th>\n",
       "      <td>Acyclovir (Topical)</td>\n",
       "      <td>Acyclovir is an antiviral drug active against ...</td>\n",
       "      <td>The most common adverse reactions at the site ...</td>\n",
       "    </tr>\n",
       "    <tr>\n",
       "      <th>3</th>\n",
       "      <td>Acyclovir (Oral)</td>\n",
       "      <td>Aciclovir is a synthetic purine derivative. Ac...</td>\n",
       "      <td>Rash, gastrointestinal disturbance, rise in bi...</td>\n",
       "    </tr>\n",
       "    <tr>\n",
       "      <th>4</th>\n",
       "      <td>Acyclovir (Ophthalmic)</td>\n",
       "      <td>Acyclovir is an antiviral agent which is highl...</td>\n",
       "      <td>Very common: Superfi­cial punctate keratopathy...</td>\n",
       "    </tr>\n",
       "  </tbody>\n",
       "</table>\n",
       "</div>"
      ],
      "text/plain": [
       "                 generic name  \\\n",
       "0                  Adalimumab   \n",
       "1  Acyclovir + Hydrocortisone   \n",
       "2         Acyclovir (Topical)   \n",
       "3            Acyclovir (Oral)   \n",
       "4      Acyclovir (Ophthalmic)   \n",
       "\n",
       "                            pharmacology description  \\\n",
       "0  Adalimumab is a recombinant human IgG1 monoclo...   \n",
       "1  Acyclovir is a synthetic purine nucleoside ana...   \n",
       "2  Acyclovir is an antiviral drug active against ...   \n",
       "3  Aciclovir is a synthetic purine derivative. Ac...   \n",
       "4  Acyclovir is an antiviral agent which is highl...   \n",
       "\n",
       "                            side effects description  \n",
       "0  The most common adverse reaction with Adalimum...  \n",
       "1  The following most common adverse reactions (<...  \n",
       "2  The most common adverse reactions at the site ...  \n",
       "3  Rash, gastrointestinal disturbance, rise in bi...  \n",
       "4  Very common: Superfi­cial punctate keratopathy...  "
      ]
     },
     "execution_count": 6,
     "metadata": {},
     "output_type": "execute_result"
    }
   ],
   "source": [
    "gen_data.head()"
   ]
  },
  {
   "cell_type": "code",
   "execution_count": 7,
   "id": "ab74949e",
   "metadata": {},
   "outputs": [
    {
     "data": {
      "text/plain": [
       "generic name                 0\n",
       "pharmacology description    97\n",
       "side effects description    80\n",
       "dtype: int64"
      ]
     },
     "execution_count": 7,
     "metadata": {},
     "output_type": "execute_result"
    }
   ],
   "source": [
    "gen_data.isna().sum()"
   ]
  },
  {
   "cell_type": "code",
   "execution_count": 9,
   "id": "5f05d443",
   "metadata": {},
   "outputs": [],
   "source": [
    "gen = gen_data.dropna()"
   ]
  },
  {
   "cell_type": "code",
   "execution_count": 10,
   "id": "f6af6168",
   "metadata": {},
   "outputs": [
    {
     "data": {
      "text/plain": [
       "generic name                0\n",
       "pharmacology description    0\n",
       "side effects description    0\n",
       "dtype: int64"
      ]
     },
     "execution_count": 10,
     "metadata": {},
     "output_type": "execute_result"
    }
   ],
   "source": [
    "gen.isna().sum()"
   ]
  },
  {
   "cell_type": "code",
   "execution_count": 11,
   "id": "15ca0b7b",
   "metadata": {},
   "outputs": [
    {
     "data": {
      "text/plain": [
       "(1557, 3)"
      ]
     },
     "execution_count": 11,
     "metadata": {},
     "output_type": "execute_result"
    }
   ],
   "source": [
    "gen.shape"
   ]
  },
  {
   "cell_type": "code",
   "execution_count": 12,
   "id": "8715016c",
   "metadata": {},
   "outputs": [],
   "source": [
    "gen.to_csv('generic.csv', index=False)"
   ]
  },
  {
   "cell_type": "code",
   "execution_count": null,
   "id": "e49b399c",
   "metadata": {},
   "outputs": [],
   "source": []
  }
 ],
 "metadata": {
  "kernelspec": {
   "display_name": "Python 3 (ipykernel)",
   "language": "python",
   "name": "python3"
  },
  "language_info": {
   "codemirror_mode": {
    "name": "ipython",
    "version": 3
   },
   "file_extension": ".py",
   "mimetype": "text/x-python",
   "name": "python",
   "nbconvert_exporter": "python",
   "pygments_lexer": "ipython3",
   "version": "3.11.4"
  }
 },
 "nbformat": 4,
 "nbformat_minor": 5
}
