{
 "cells": [
  {
   "cell_type": "code",
   "execution_count": 1,
   "id": "6901c8c9",
   "metadata": {},
   "outputs": [],
   "source": [
    "import pandas as pd\n",
    "\n",
    "# column names\n",
    "column_names = ['Subject', 'Predicate', 'Object']\n",
    "df = pd.read_csv('dictionary.csv', header=None, names=column_names)\n"
   ]
  },
  {
   "cell_type": "code",
   "execution_count": 2,
   "id": "aa64da27",
   "metadata": {},
   "outputs": [
    {
     "data": {
      "text/plain": [
       "'\\nQ1. Find brand information\\n\\n'"
      ]
     },
     "execution_count": 2,
     "metadata": {},
     "output_type": "execute_result"
    }
   ],
   "source": [
    "\"\"\"\n",
    "Q1. Find brand information\n",
    "\n",
    "\"\"\""
   ]
  },
  {
   "cell_type": "code",
   "execution_count": 3,
   "id": "6adfe0c7",
   "metadata": {},
   "outputs": [],
   "source": [
    "def search_brand_info(brand_name):\n",
    "    generic_name = None\n",
    "    brand_type = None\n",
    "    dosage_form = None\n",
    "    strength = None\n",
    "    manufacturer = None\n",
    "    pharmacology_description = None\n",
    "    side_effects_description = None\n",
    "\n",
    "    brand_rows = df[df['Subject'] == brand_name]\n",
    "\n",
    "    for _, row in brand_rows.iterrows():\n",
    "        predicate = row['Predicate']\n",
    "        obj = row['Object']\n",
    "        if predicate == 'generic name is':\n",
    "            generic_name = obj\n",
    "        elif predicate == 'type of':\n",
    "            brand_type = obj\n",
    "        elif predicate == 'has dosage form':\n",
    "            dosage_form = obj\n",
    "        elif predicate == 'has strength of':\n",
    "            strength = obj\n",
    "        elif predicate == 'manufactured by':\n",
    "            manufacturer = obj\n",
    "\n",
    "    generic_rows = df[df['Subject'] == generic_name]\n",
    "    for _, row in generic_rows.iterrows():\n",
    "        predicate = row['Predicate']\n",
    "        obj = row['Object']\n",
    "        if predicate == 'pharmacology description':\n",
    "            pharmacology_description = obj\n",
    "        elif predicate == 'side effects':\n",
    "            side_effects_description = obj\n",
    "\n",
    "    brand_info = {\n",
    "        'Brand Name': brand_name,\n",
    "        'generic name is': generic_name,\n",
    "        'type of': brand_type,\n",
    "        'has dosage form': dosage_form,\n",
    "        'has strength of': strength,\n",
    "        'manufactured by': f'{manufacturer}\\n',\n",
    "        'pharmacology description': f'\\n{pharmacology_description}\\n',\n",
    "        'side effects': f'\\n{side_effects_description}'\n",
    "    }\n",
    "\n",
    "    return brand_info\n"
   ]
  },
  {
   "cell_type": "code",
   "execution_count": 4,
   "id": "7b02e387",
   "metadata": {},
   "outputs": [
    {
     "name": "stdout",
     "output_type": "stream",
     "text": [
      "Brand Name: A-Cold\n",
      "generic name is: Bromhexine Hydrochloride\n",
      "type of: allopathic\n",
      "has dosage form: Syrup\n",
      "has strength of: 4 mg/5 ml\n",
      "manufactured by: ACME Laboratories Ltd.\n",
      "\n",
      "pharmacology description: \n",
      "Bromhexine Hydrochloride is an oral mucolytic agent. It disrupts the structure of acid mucopolysaccharide fibres in mucoid sputum and produces less viscous mucus, which makes easier the expectoration. It is rapidly & completely absorbed from the gastrointestinal tract. It is widely distributed into the body tissues.\n",
      "\n",
      "side effects: \n",
      "Gastrointestinal side effects may occur occasionally. A transient rise in serum aminotransferase values has been reported. Other reported side effects include-headache, vertigo (dizziness) and allergic reactions.\n"
     ]
    }
   ],
   "source": [
    "# Example usage:\n",
    "searched_brand = 'A-Cold'\n",
    "result = search_brand_info(searched_brand)\n",
    "\n",
    "# Print the retrieved information\n",
    "for key, value in result.items():\n",
    "    print(f\"{key}: {value}\")"
   ]
  },
  {
   "cell_type": "code",
   "execution_count": 7,
   "id": "6dd25360",
   "metadata": {},
   "outputs": [
    {
     "data": {
      "text/plain": [
       "'\\nQ2. Find alternative brand\\n\\n'"
      ]
     },
     "execution_count": 7,
     "metadata": {},
     "output_type": "execute_result"
    }
   ],
   "source": [
    "\"\"\"\n",
    "Q2. Find alternative brand\n",
    "\n",
    "\"\"\""
   ]
  },
  {
   "cell_type": "code",
   "execution_count": 6,
   "id": "d9d468e9",
   "metadata": {},
   "outputs": [],
   "source": [
    "def get_alternative_brands(brand_name, predicate):\n",
    "    alternative_brands = []\n",
    "    brand_rows = df[(df['Subject'] == brand_name) | (df['Object'] == brand_name)]\n",
    "    \n",
    "    for _, row in brand_rows.iterrows():\n",
    "        if row['Predicate'] == predicate:\n",
    "            alt_brand = row['Object'] if row['Subject'] == brand_name else row['Subject']\n",
    "            alternative_brands.append(alt_brand)\n",
    "    return alternative_brands\n"
   ]
  },
  {
   "cell_type": "code",
   "execution_count": 7,
   "id": "0c78e9c2",
   "metadata": {},
   "outputs": [],
   "source": [
    "def format_output(alternative_brands):\n",
    "    formatted_output = \"\\n\"\n",
    "    max_length = max(len(name) for name in alternative_brands)\n",
    "\n",
    "    for i, name in enumerate(alternative_brands, start=1):\n",
    "        formatted_output += f\"{i:2}. {name.ljust(max_length)}\"\n",
    "        if i % 2 == 0:\n",
    "            formatted_output += \"\\n\"\n",
    "        else:\n",
    "            formatted_output += \"     \"\n",
    "\n",
    "    return formatted_output"
   ]
  },
  {
   "cell_type": "code",
   "execution_count": 10,
   "id": "e7f12874",
   "metadata": {},
   "outputs": [
    {
     "name": "stdout",
     "output_type": "stream",
     "text": [
      "['Brohexin', 'Broncomet', 'Bronchodex', 'Bromoxol DS', 'Bromoxol', 'Bromotex', 'Bromolit', 'Bromex', 'Bromex', 'Brolyt', 'Brolyt', 'Brolyt', 'Brokof', 'Brohexin', 'Broxine', 'Brostin DS', 'Brostin', 'Coflyt', 'Cold B', 'De-Cold', 'E-Hexin', 'E-Hexin', 'Expecto', 'Mexilyt', 'Mucut', 'Mucoten', 'Mucotec', 'Mucospel', 'Mucopront', 'Muconil', 'Mucolyt', 'Mucolyt', 'Mucola', 'Mucof', 'Mucodil', 'Munil', 'Mulyt', 'Mute', 'N Hexin', 'Naxcel', 'Spulyt', 'Spulyt', 'Sputen', 'Topsil', 'Topsil', 'X-Pectoran', 'X-Pectoran']\n"
     ]
    }
   ],
   "source": [
    "print(get_alternative_brands('A-Cold', 'alternative brand'))"
   ]
  },
  {
   "cell_type": "code",
   "execution_count": 12,
   "id": "a43dfe69",
   "metadata": {},
   "outputs": [
    {
     "name": "stdout",
     "output_type": "stream",
     "text": [
      "\n",
      " 1. Brohexin         2. Broncomet  \n",
      " 3. Bronchodex       4. Bromoxol DS\n",
      " 5. Bromoxol         6. Bromotex   \n",
      " 7. Bromolit         8. Bromex     \n",
      " 9. Bromex          10. Brolyt     \n",
      "11. Brolyt          12. Brolyt     \n",
      "13. Brokof          14. Brohexin   \n",
      "15. Broxine         16. Brostin DS \n",
      "17. Brostin         18. Coflyt     \n",
      "19. Cold B          20. De-Cold    \n",
      "21. E-Hexin         22. E-Hexin    \n",
      "23. Expecto         24. Mexilyt    \n",
      "25. Mucut           26. Mucoten    \n",
      "27. Mucotec         28. Mucospel   \n",
      "29. Mucopront       30. Muconil    \n",
      "31. Mucolyt         32. Mucolyt    \n",
      "33. Mucola          34. Mucof      \n",
      "35. Mucodil         36. Munil      \n",
      "37. Mulyt           38. Mute       \n",
      "39. N Hexin         40. Naxcel     \n",
      "41. Spulyt          42. Spulyt     \n",
      "43. Sputen          44. Topsil     \n",
      "45. Topsil          46. X-Pectoran \n",
      "47. X-Pectoran      \n"
     ]
    }
   ],
   "source": [
    "list_result = get_alternative_brands('A-Cold', 'alternative brand')\n",
    "print(format_output(list_result))"
   ]
  },
  {
   "cell_type": "code",
   "execution_count": 53,
   "id": "bff46819",
   "metadata": {},
   "outputs": [
    {
     "data": {
      "text/plain": [
       "'\\n1. Find brand information\\n2. Find alternative brand\\n3. Find individual information\\n4. ask question to find true or false\\n\\n'"
      ]
     },
     "execution_count": 53,
     "metadata": {},
     "output_type": "execute_result"
    }
   ],
   "source": [
    "\"\"\"\n",
    "1. Find brand information\n",
    "2. Find alternative brand\n",
    "3. Find individual information\n",
    "4. ask question to find true or false\n",
    "\n",
    "\"\"\""
   ]
  },
  {
   "cell_type": "code",
   "execution_count": 14,
   "id": "4fd870cf",
   "metadata": {},
   "outputs": [
    {
     "data": {
      "text/plain": [
       "'\\nQ3. Find individual information\\n'"
      ]
     },
     "execution_count": 14,
     "metadata": {},
     "output_type": "execute_result"
    }
   ],
   "source": [
    "\"\"\"\n",
    "Q3. Find individual information\n",
    "\"\"\""
   ]
  },
  {
   "cell_type": "code",
   "execution_count": 8,
   "id": "a1274014",
   "metadata": {},
   "outputs": [],
   "source": [
    "def search_att_info(sub, pred):\n",
    "    filtered = df[(df['Subject'] == sub) & (df['Predicate'] == pred)]\n",
    "    if not filtered.empty:\n",
    "        return filtered.iloc[0]['Object']\n",
    "    else:\n",
    "        return None"
   ]
  },
  {
   "cell_type": "code",
   "execution_count": 9,
   "id": "1e2ace96",
   "metadata": {},
   "outputs": [],
   "source": [
    "def query(subject, predicate):\n",
    "    if predicate == 'pharmacology description':\n",
    "        generic_name = search_att_info(subject, 'generic name is')\n",
    "        generic_rows = df[(df['Subject'] == generic_name) & (df['Predicate'] == 'pharmacology description')]\n",
    "        for _, row in generic_rows.iterrows():\n",
    "            pharmacology_description = row['Object']\n",
    "        output = f\"Pharmacology Description:\\n{pharmacology_description}\"\n",
    "        \n",
    "    elif predicate == 'side effects':\n",
    "        generic_name = search_att_info(subject, 'generic name is')\n",
    "        generic_rows = df[(df['Subject'] == generic_name) & (df['Predicate'] == 'side effects')]\n",
    "        for _, row in generic_rows.iterrows():\n",
    "            side_effects = row['Object']\n",
    "        output = f\"Side Effects:\\n{side_effects}\"\n",
    "        \n",
    "    elif predicate == 'alternative brand':\n",
    "        results = get_alternative_brands(subject, predicate)\n",
    "        res = format_output(results)\n",
    "        output = f\"Alternative medicine brands for {subject}:\\n{res}\"\n",
    "    \n",
    "    elif predicate == 'generic name is':\n",
    "        result = search_att_info(subject, predicate)\n",
    "        output = f\"Generic name of {subject}: {result}\"\n",
    "    \n",
    "    elif predicate == 'type of':\n",
    "        result = search_att_info(subject, predicate)\n",
    "        output = f\"Type of {subject}: {result}\"\n",
    "    \n",
    "    elif predicate == 'has dosage form':\n",
    "        result = search_att_info(subject, predicate)\n",
    "        output = f\"Dosage form of {subject}: {result}\"\n",
    "        \n",
    "    elif predicate == 'has strength of':\n",
    "        result = search_att_info(subject, predicate)\n",
    "        output = f\"Strength of {subject}: {result}\"\n",
    "    \n",
    "    elif predicate == 'manufactured by':\n",
    "        result = search_att_info(subject, predicate)\n",
    "        output = f\"{subject} is manufactured by: {result}\"\n",
    "        \n",
    "    return output"
   ]
  },
  {
   "cell_type": "code",
   "execution_count": 17,
   "id": "dae5f081",
   "metadata": {},
   "outputs": [
    {
     "name": "stdout",
     "output_type": "stream",
     "text": [
      "Generic name of A-Cold: Bromhexine Hydrochloride\n"
     ]
    }
   ],
   "source": [
    "print(query('A-Cold', 'generic name is'))"
   ]
  },
  {
   "cell_type": "code",
   "execution_count": 18,
   "id": "eb1731e1",
   "metadata": {},
   "outputs": [
    {
     "name": "stdout",
     "output_type": "stream",
     "text": [
      "Type of A-Cold: allopathic\n"
     ]
    }
   ],
   "source": [
    "print(query('A-Cold', 'type of'))"
   ]
  },
  {
   "cell_type": "code",
   "execution_count": 19,
   "id": "8dafa17f",
   "metadata": {},
   "outputs": [
    {
     "name": "stdout",
     "output_type": "stream",
     "text": [
      "Dosage form of A-Cold: Syrup\n"
     ]
    }
   ],
   "source": [
    "print(query('A-Cold', 'has dosage form'))"
   ]
  },
  {
   "cell_type": "code",
   "execution_count": 20,
   "id": "3b9993a3",
   "metadata": {},
   "outputs": [
    {
     "name": "stdout",
     "output_type": "stream",
     "text": [
      "Strength of A-Cold: 4 mg/5 ml\n"
     ]
    }
   ],
   "source": [
    "print(query('A-Cold', 'has strength of'))"
   ]
  },
  {
   "cell_type": "code",
   "execution_count": 21,
   "id": "ce384195",
   "metadata": {},
   "outputs": [
    {
     "name": "stdout",
     "output_type": "stream",
     "text": [
      "A-Cold is manufactured by: ACME Laboratories Ltd.\n"
     ]
    }
   ],
   "source": [
    "print(query('A-Cold', 'manufactured by'))"
   ]
  },
  {
   "cell_type": "code",
   "execution_count": 22,
   "id": "e39ef1b8",
   "metadata": {},
   "outputs": [
    {
     "name": "stdout",
     "output_type": "stream",
     "text": [
      "Pharmacology Description:\n",
      "Bromhexine Hydrochloride is an oral mucolytic agent. It disrupts the structure of acid mucopolysaccharide fibres in mucoid sputum and produces less viscous mucus, which makes easier the expectoration. It is rapidly & completely absorbed from the gastrointestinal tract. It is widely distributed into the body tissues.\n"
     ]
    }
   ],
   "source": [
    "print(query('A-Cold', 'pharmacology description'))"
   ]
  },
  {
   "cell_type": "code",
   "execution_count": 23,
   "id": "2bb8900f",
   "metadata": {},
   "outputs": [
    {
     "name": "stdout",
     "output_type": "stream",
     "text": [
      "Side Effects:\n",
      "Gastrointestinal side effects may occur occasionally. A transient rise in serum aminotransferase values has been reported. Other reported side effects include-headache, vertigo (dizziness) and allergic reactions.\n"
     ]
    }
   ],
   "source": [
    "print(query('A-Cold', 'side effects'))"
   ]
  },
  {
   "cell_type": "code",
   "execution_count": 24,
   "id": "59e1e283",
   "metadata": {},
   "outputs": [
    {
     "name": "stdout",
     "output_type": "stream",
     "text": [
      "Alternative medicine brands for A-Cold:\n",
      "\n",
      " 1. Brohexin         2. Broncomet  \n",
      " 3. Bronchodex       4. Bromoxol DS\n",
      " 5. Bromoxol         6. Bromotex   \n",
      " 7. Bromolit         8. Bromex     \n",
      " 9. Bromex          10. Brolyt     \n",
      "11. Brolyt          12. Brolyt     \n",
      "13. Brokof          14. Brohexin   \n",
      "15. Broxine         16. Brostin DS \n",
      "17. Brostin         18. Coflyt     \n",
      "19. Cold B          20. De-Cold    \n",
      "21. E-Hexin         22. E-Hexin    \n",
      "23. Expecto         24. Mexilyt    \n",
      "25. Mucut           26. Mucoten    \n",
      "27. Mucotec         28. Mucospel   \n",
      "29. Mucopront       30. Muconil    \n",
      "31. Mucolyt         32. Mucolyt    \n",
      "33. Mucola          34. Mucof      \n",
      "35. Mucodil         36. Munil      \n",
      "37. Mulyt           38. Mute       \n",
      "39. N Hexin         40. Naxcel     \n",
      "41. Spulyt          42. Spulyt     \n",
      "43. Sputen          44. Topsil     \n",
      "45. Topsil          46. X-Pectoran \n",
      "47. X-Pectoran      \n"
     ]
    }
   ],
   "source": [
    "print(query('A-Cold', 'alternative brand'))"
   ]
  },
  {
   "cell_type": "code",
   "execution_count": 10,
   "id": "134fcfec",
   "metadata": {},
   "outputs": [],
   "source": [
    "def dictionary_query(input_values):\n",
    "    input_values = input_values.split(',')\n",
    "    if len(input_values) == 1:\n",
    "        brand_name = input_values[0].strip()\n",
    "        output_ = search_brand_info(brand_name)\n",
    "        \n",
    "    elif len(input_values) == 2:\n",
    "        sub = input_values[0].strip()\n",
    "        pred = input_values[1].strip()\n",
    "        output_ = query(sub, pred)\n",
    "    return output_\n"
   ]
  },
  {
   "cell_type": "code",
   "execution_count": 26,
   "id": "c42cd62f",
   "metadata": {},
   "outputs": [
    {
     "name": "stdout",
     "output_type": "stream",
     "text": [
      "Please Enter Your Query:A-Cold\n",
      "{'Brand Name': 'A-Cold', 'generic name is': 'Bromhexine Hydrochloride', 'type of': 'allopathic', 'has dosage form': 'Syrup', 'has strength of': '4 mg/5 ml', 'manufactured by': 'ACME Laboratories Ltd.\\n', 'pharmacology description': '\\nBromhexine Hydrochloride is an oral mucolytic agent. It disrupts the structure of acid mucopolysaccharide fibres in mucoid sputum and produces less viscous mucus, which makes easier the expectoration. It is rapidly & completely absorbed from the gastrointestinal tract. It is widely distributed into the body tissues.\\n', 'side effects': '\\nGastrointestinal side effects may occur occasionally. A transient rise in serum aminotransferase values has been reported. Other reported side effects include-headache, vertigo (dizziness) and allergic reactions.'}\n"
     ]
    }
   ],
   "source": [
    "input_query = input(\"Please Enter Your Query:\")\n",
    "print(dictionary_query(input_query))"
   ]
  },
  {
   "cell_type": "code",
   "execution_count": 27,
   "id": "4c041339",
   "metadata": {},
   "outputs": [
    {
     "name": "stdout",
     "output_type": "stream",
     "text": [
      "Please Enter Your Query:A-Cold, alternative brand\n",
      "Alternative medicine brands for A-Cold:\n",
      "\n",
      " 1. Brohexin         2. Broncomet  \n",
      " 3. Bronchodex       4. Bromoxol DS\n",
      " 5. Bromoxol         6. Bromotex   \n",
      " 7. Bromolit         8. Bromex     \n",
      " 9. Bromex          10. Brolyt     \n",
      "11. Brolyt          12. Brolyt     \n",
      "13. Brokof          14. Brohexin   \n",
      "15. Broxine         16. Brostin DS \n",
      "17. Brostin         18. Coflyt     \n",
      "19. Cold B          20. De-Cold    \n",
      "21. E-Hexin         22. E-Hexin    \n",
      "23. Expecto         24. Mexilyt    \n",
      "25. Mucut           26. Mucoten    \n",
      "27. Mucotec         28. Mucospel   \n",
      "29. Mucopront       30. Muconil    \n",
      "31. Mucolyt         32. Mucolyt    \n",
      "33. Mucola          34. Mucof      \n",
      "35. Mucodil         36. Munil      \n",
      "37. Mulyt           38. Mute       \n",
      "39. N Hexin         40. Naxcel     \n",
      "41. Spulyt          42. Spulyt     \n",
      "43. Sputen          44. Topsil     \n",
      "45. Topsil          46. X-Pectoran \n",
      "47. X-Pectoran      \n"
     ]
    }
   ],
   "source": [
    "input_query = input(\"Please Enter Your Query:\")\n",
    "print(dictionary_query(input_query))"
   ]
  },
  {
   "cell_type": "code",
   "execution_count": 31,
   "id": "3972f6e2",
   "metadata": {},
   "outputs": [
    {
     "name": "stdout",
     "output_type": "stream",
     "text": [
      "Please Enter Your Query:A-Cof, has dosage form\n",
      "Dosage form of A-Cof: Syrup\n"
     ]
    }
   ],
   "source": [
    "input_query = input(\"Please Enter Your Query:\")\n",
    "print(dictionary_query(input_query))"
   ]
  },
  {
   "cell_type": "code",
   "execution_count": 11,
   "id": "ba394c10",
   "metadata": {},
   "outputs": [],
   "source": [
    "def transform_input(input_str):\n",
    "    middle_part = input_str[:input_str.index(\"(\")]\n",
    "    middle_part = middle_part.replace('_', ' ')\n",
    "    \n",
    "    if '(' in input_str and ')' in input_str:\n",
    "        inner_content = input_str[input_str.index('(')+1:input_str.index(')')]\n",
    "        parts = inner_content.split(', ')\n",
    "        result_str = f\"{parts[0]}, {middle_part}, {parts[1]}\"\n",
    "        return result_str\n",
    "    else:\n",
    "        return input_str "
   ]
  },
  {
   "cell_type": "code",
   "execution_count": 12,
   "id": "5f13218a",
   "metadata": {},
   "outputs": [],
   "source": [
    "def question_answer(question):\n",
    "    qu_ = transform_input(question)\n",
    "    parts_ = qu_.split(', ')\n",
    "    sub = parts_[0]\n",
    "    pred = parts_[1]\n",
    "    obj = parts_[2]\n",
    "    \n",
    "    if pred == 'pharmacology description' or pred == 'side effects':\n",
    "        output_ = 'Invalid question!'\n",
    "        return output_\n",
    "    elif pred == 'alternative brand':\n",
    "        if ((df['Subject'] == sub) & (df['Predicate'] == pred) & (df['Object'] == obj)).any():\n",
    "            output_ = \"Yes\"\n",
    "            return output_\n",
    "        elif ((df['Subject'] == obj) & (df['Predicate'] == pred) & (df['Object'] == sub)).any():\n",
    "            output_ = \"Yes\"\n",
    "            return output_\n",
    "        else:\n",
    "            output_ = \"No\"\n",
    "            return output_\n",
    "    else:\n",
    "        if ((df['Subject'] == sub) & (df['Predicate'] == pred) & (df['Object'] == obj)).any():\n",
    "            output_ = \"Yes\"\n",
    "            return output_\n",
    "        else:\n",
    "            output_ = \"No\"\n",
    "            return output_"
   ]
  },
  {
   "cell_type": "code",
   "execution_count": 44,
   "id": "c0b8dc3f",
   "metadata": {},
   "outputs": [
    {
     "name": "stdout",
     "output_type": "stream",
     "text": [
      "alternative_brand(Broxine, Brostin)\n",
      "Yes\n"
     ]
    }
   ],
   "source": [
    "test_ = input()\n",
    "ans_ = question_answer(test_)\n",
    "print(ans_)"
   ]
  }
 ],
 "metadata": {
  "kernelspec": {
   "display_name": "Python 3 (ipykernel)",
   "language": "python",
   "name": "python3"
  },
  "language_info": {
   "codemirror_mode": {
    "name": "ipython",
    "version": 3
   },
   "file_extension": ".py",
   "mimetype": "text/x-python",
   "name": "python",
   "nbconvert_exporter": "python",
   "pygments_lexer": "ipython3",
   "version": "3.11.4"
  }
 },
 "nbformat": 4,
 "nbformat_minor": 5
}
